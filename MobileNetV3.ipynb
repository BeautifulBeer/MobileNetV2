{
  "nbformat": 4,
  "nbformat_minor": 0,
  "metadata": {
    "colab": {
      "name": "MobileNetV3.ipynb",
      "provenance": [],
      "collapsed_sections": []
    },
    "kernelspec": {
      "name": "python3",
      "display_name": "Python 3"
    },
    "language_info": {
      "name": "python"
    }
  },
  "cells": [
    {
      "cell_type": "markdown",
      "source": [
        "# Classification Tasks using Convolutional Neural Network, MobileNet-V3\n",
        "This is tutorial for Kaggle Competition, \"Digit Recognizer\"\n",
        "\n",
        "The main purpose of this work is to verify implemented MobileNetV3."
      ],
      "metadata": {
        "id": "3yea53axQnX1"
      }
    },
    {
      "cell_type": "code",
      "execution_count": 2,
      "metadata": {
        "colab": {
          "base_uri": "https://localhost:8080/"
        },
        "id": "GCWtQ0fgBYCv",
        "outputId": "09326669-14de-4d30-e5ba-3a673a24f27a"
      },
      "outputs": [
        {
          "output_type": "stream",
          "name": "stdout",
          "text": [
            "Requirement already satisfied: torch in /usr/local/lib/python3.7/dist-packages (1.10.0+cu111)\n",
            "Requirement already satisfied: typing-extensions in /usr/local/lib/python3.7/dist-packages (from torch) (3.10.0.2)\n",
            "Requirement already satisfied: torchvision in /usr/local/lib/python3.7/dist-packages (0.11.1+cu111)\n",
            "Requirement already satisfied: numpy in /usr/local/lib/python3.7/dist-packages (from torchvision) (1.19.5)\n",
            "Requirement already satisfied: torch==1.10.0 in /usr/local/lib/python3.7/dist-packages (from torchvision) (1.10.0+cu111)\n",
            "Requirement already satisfied: pillow!=8.3.0,>=5.3.0 in /usr/local/lib/python3.7/dist-packages (from torchvision) (7.1.2)\n",
            "Requirement already satisfied: typing-extensions in /usr/local/lib/python3.7/dist-packages (from torch==1.10.0->torchvision) (3.10.0.2)\n",
            "Collecting pytorch-model-summary\n",
            "  Downloading pytorch_model_summary-0.1.2-py3-none-any.whl (9.3 kB)\n",
            "Requirement already satisfied: tqdm in /usr/local/lib/python3.7/dist-packages (from pytorch-model-summary) (4.62.3)\n",
            "Requirement already satisfied: torch in /usr/local/lib/python3.7/dist-packages (from pytorch-model-summary) (1.10.0+cu111)\n",
            "Requirement already satisfied: numpy in /usr/local/lib/python3.7/dist-packages (from pytorch-model-summary) (1.19.5)\n",
            "Requirement already satisfied: typing-extensions in /usr/local/lib/python3.7/dist-packages (from torch->pytorch-model-summary) (3.10.0.2)\n",
            "Installing collected packages: pytorch-model-summary\n",
            "Successfully installed pytorch-model-summary-0.1.2\n"
          ]
        }
      ],
      "source": [
        "!pip install torch\n",
        "!pip install torchvision\n",
        "!pip install pytorch-model-summary"
      ]
    },
    {
      "cell_type": "code",
      "source": [
        "import torch\n",
        "import torch.nn as nn\n",
        "import os\n",
        "from pathlib import Path\n",
        "from torch.utils.data import Dataset, DataLoader\n",
        "import torch.nn.functional as F\n",
        "import pandas as pd\n",
        "import numpy as np\n",
        "from tqdm.notebook import trange, tqdm\n",
        "import matplotlib.pyplot as plt\n",
        "import pytorch_model_summary\n",
        "import time\n",
        "import torchvision"
      ],
      "metadata": {
        "id": "3rKWXjG0E-H5"
      },
      "execution_count": 120,
      "outputs": []
    },
    {
      "cell_type": "code",
      "source": [
        "if 'google.colab' in str(get_ipython()):\n",
        "    print('Running on Colab')\n",
        "    from google.colab import drive\n",
        "    drive.mount('/content/gdrive')\n",
        "    dataDir = Path('/content/gdrive/My Drive', 'dataset')\n",
        "    checkpointDir = Path('/content/gdrive/My Drive', 'checkpoints')\n",
        "else:\n",
        "    dataDir = Path('.', 'dataset')\n",
        "    checkpointDir = Path('.', 'checkpoints', 'fam')\n",
        "\n",
        "dataDir.mkdir(exist_ok=True, parents=True)\n",
        "checkpointDir.mkdir(exist_ok=True, parents=True)\n",
        "\n",
        "fileDir = Path(dataDir, 'mnist')\n",
        "qFileName = {}\n",
        "qFiles = os.listdir(fileDir)\n",
        "for fName in qFiles:\n",
        "    fNameTmp = fName.lower()\n",
        "    if fNameTmp.find('train') != -1:\n",
        "        qFileName['train'] = fName\n",
        "    elif fNameTmp.find('test') != -1:\n",
        "        qFileName['test'] = fName\n",
        "\n",
        "torch.random.manual_seed(42)\n",
        "np.random.seed(42)"
      ],
      "metadata": {
        "colab": {
          "base_uri": "https://localhost:8080/"
        },
        "id": "m9ES6mPSSzJ-",
        "outputId": "02c15ba0-a76e-4318-e0ae-c05cf7505f2c"
      },
      "execution_count": 122,
      "outputs": [
        {
          "output_type": "stream",
          "name": "stdout",
          "text": [
            "Running on Colab\n",
            "Drive already mounted at /content/gdrive; to attempt to forcibly remount, call drive.mount(\"/content/gdrive\", force_remount=True).\n"
          ]
        }
      ]
    },
    {
      "cell_type": "code",
      "source": [
        "def convBlock(inp, oup, kernel, stride, padding, bias=True, groups=1):\n",
        "    return nn.Sequential(\n",
        "      nn.Conv2d(inp, oup, kernel, stride, padding, bias=bias, groups=groups),\n",
        "      nn.BatchNorm2d(oup),\n",
        "    )\n",
        "\n",
        "class SqueezeExciteLayer(nn.Module):\n",
        "    def __init__(self, outDim, reductionNum):\n",
        "        super(SqueezeExciteLayer, self).__init__()\n",
        "        hiddenNum = int(outDim / reductionNum)\n",
        "        self.fc1 = nn.Linear(outDim, hiddenNum)\n",
        "        self.fc2 = nn.Linear(hiddenNum, outDim)\n",
        "        self.outDim = outDim\n",
        "\n",
        "    def forward(self, x):\n",
        "        squeeze = x.mean(3).mean(2)\n",
        "        excitation = F.relu(self.fc1(squeeze))\n",
        "        excitation = torch.sigmoid(self.fc2(excitation))\n",
        "        excitation = torch.reshape(excitation, [-1, self.outDim, 1, 1])\n",
        "        return x * excitation\n",
        "\n",
        "class InvertedResidualv3(nn.Module):\n",
        "    def __init__(self, inp, oup, kernel, stride, padding, bias=True, expandRatio=6, reductionNum=4):\n",
        "        super(InvertedResidualv3, self).__init__()\n",
        "        self.stride = stride\n",
        "        self.inp = inp\n",
        "        self.oup = oup\n",
        "        hiddenDim = int(inp * expandRatio)\n",
        "        self.use_res_connect = self.stride == 1 and inp == oup\n",
        "        layers = []        \n",
        "        if expandRatio == 1:\n",
        "            # depthwise\n",
        "            layers.append(convBlock(inp, hiddenDim, kernel, stride, padding, groups=hiddenDim, bias=bias))\n",
        "            layers.append(nn.LeakyReLU())\n",
        "            # pointwise\n",
        "            layers.append(convBlock(hiddenDim, oup, 1, 1, padding, bias=bias))\n",
        "        else:\n",
        "            # pointwise\n",
        "            layers.append(convBlock(inp, hiddenDim, 1, 1, padding, bias=bias))\n",
        "            layers.append(nn.LeakyReLU())\n",
        "            # depthwise\n",
        "            layers.append(convBlock(hiddenDim, hiddenDim, kernel, self.stride, 1, groups=hiddenDim, bias=bias))\n",
        "            layers.append(nn.LeakyReLU())\n",
        "            # squeeze&excite layer\n",
        "            layers.append(SqueezeExciteLayer(hiddenDim, reductionNum))\n",
        "            # pointwise\n",
        "            layers.append(convBlock(hiddenDim, oup, 1, 1, padding, bias=bias))\n",
        "        self.conv = nn.Sequential(*layers)\n",
        "    def forward(self, x):\n",
        "        if self.use_res_connect:\n",
        "            return x + self.conv(x)\n",
        "        else:\n",
        "            return self.conv(x)\n",
        "\n",
        "class MobileNetV3(nn.Module):\n",
        "    def __init__(self, inDim=2, outDim=19):\n",
        "        super(MobileNetV3, self).__init__()\n",
        "        block = InvertedResidualv3\n",
        "        bias = False\n",
        "        kernel = (3,3)\n",
        "        inputChannel = 12\n",
        "        expandRatio = 6\n",
        "        padding='valid'\n",
        "        invertedResidualSetting = [\n",
        "          # t, c, n, s\n",
        "          [6, 12, 2, 2],\n",
        "          [6, 24, 1, 2],\n",
        "        ]\n",
        "\n",
        "        self.features = [convBlock(inDim, inputChannel, kernel, 1, padding, bias=bias)]\n",
        "        for t, c, n, s in invertedResidualSetting:\n",
        "            outputChannel = c\n",
        "            for i in range(n):\n",
        "                if i == 0:\n",
        "                    self.features.append(block(inputChannel, outputChannel, kernel, s, padding, bias, expandRatio=t))\n",
        "                else:\n",
        "                    self.features.append(block(inputChannel, outputChannel, kernel, 1, padding, bias, expandRatio=t))\n",
        "                inputChannel = outputChannel\n",
        "        self.features = nn.Sequential(*self.features)\n",
        "        self.conv1 = nn.Sequential(\n",
        "            convBlock(inputChannel, inputChannel * expandRatio, 1, 1, padding),\n",
        "            nn.LeakyReLU()\n",
        "        )\n",
        "        self.conv2 = nn.Sequential(\n",
        "            nn.Conv2d(inputChannel * expandRatio, inputChannel, 1, 1, padding),\n",
        "            nn.LeakyReLU()\n",
        "        )\n",
        "        self.fc1 = nn.Linear(inputChannel, outDim)\n",
        "        self._initialize_weights()\n",
        "    \n",
        "    def forward(self, x):\n",
        "        x = self.features(x)\n",
        "        x = self.conv1(x)\n",
        "        x = x.mean(3, keepdim=True).mean(2, keepdim=True)\n",
        "        x = self.conv2(x)\n",
        "        return F.softmax(self.fc1(torch.squeeze(x)), dim=1)\n",
        "        \n",
        "    def _initialize_weights(self):\n",
        "        for m in self.modules():\n",
        "            if isinstance(m, nn.Conv2d):\n",
        "                # nn.init.t(m.weight, gain=0.1)\n",
        "                nn.init.normal_(m.weight, std=0.1)\n",
        "            elif isinstance(m, nn.BatchNorm2d):\n",
        "                m.weight.data.fill_(1)\n",
        "                m.bias.data.zero_()\n",
        "            elif isinstance(m, nn.Linear):\n",
        "                nn.init.normal_(m.weight)"
      ],
      "metadata": {
        "id": "eVatwHV9G_58"
      },
      "execution_count": 140,
      "outputs": []
    },
    {
      "cell_type": "code",
      "source": [
        "class DigitDataset(Dataset):\n",
        "    def __init__(self, csv_data, transform, phase='training'):\n",
        "        self.csv_data = csv_data\n",
        "        self.transform = transform\n",
        "        raw_tensor = torch.tensor(csv_data)\n",
        "        self.phase = phase\n",
        "        if self.phase == 'training':\n",
        "            self.data, self.labels = raw_tensor[:, 1:].view(-1, 28, 28), raw_tensor[:, 0]\n",
        "        if self.phase == 'testing':\n",
        "            # test dataset does not have label, only digit data\n",
        "            self.data = raw_tensor.view(-1, 28, 28)\n",
        "                \n",
        "    def __len__(self):\n",
        "        return len(self.data)\n",
        "    \n",
        "    def __getitem__(self, idx):\n",
        "        if self.phase == 'training':\n",
        "            return self.transform(self.data[idx]), self.labels[idx]\n",
        "        if self.phase == 'testing':\n",
        "            # idx+1 is not used, but it is real label of the test dataset\n",
        "            return self.transform(self.data[idx]), (idx+1)\n",
        "        \n",
        "def training(model, datasets, datasets_size, optimizer, scheduler, epochs=10):\n",
        "    # Conduct train and valid per a epoch\n",
        "    phases = ['train', 'valid']\n",
        "    \n",
        "    best_valid_accuracy = -1.0\n",
        "    \n",
        "    training_loss = []\n",
        "    validation_loss = []\n",
        "        \n",
        "    for epoch in range(epochs):                \n",
        "        print(f'-------------- Epoch {epoch+1} --------------')        \n",
        "        \n",
        "        for phase in phases:\n",
        "            epoch_begin = time.time()\n",
        "            epoch_accuracy = 0.0\n",
        "            epoch_losses = 0.0\n",
        "            \n",
        "            if phase == 'train':\n",
        "                model.train()\n",
        "                \n",
        "            if phase == 'valid':\n",
        "                model.eval()\n",
        "                \n",
        "            for data in datasets[phase]:\n",
        "                # Init weights for each batch dataset\n",
        "                if phase == 'train':\n",
        "                    optimizer.zero_grad()\n",
        "                    \n",
        "                inputs, labels = data\n",
        "                # to use nll_loss, labels should be LongTensor\n",
        "                labels = labels.type(torch.LongTensor)\n",
        "                if torch.cuda.is_available():\n",
        "                    inputs, labels = inputs.cuda(), labels.cuda()\n",
        "                \n",
        "                output = model(inputs)\n",
        "                _, preds = torch.max(output, 1)\n",
        "                loss = F.nll_loss(output, labels)\n",
        "                \n",
        "                # add .detach() because of the out of memory issue. (grow computational graph)\n",
        "                epoch_losses += loss.sum().detach()\n",
        "                epoch_accuracy += torch.sum(preds == labels).detach().item()\n",
        "                if phase == 'train':\n",
        "                    loss.backward()\n",
        "                    optimizer.step()\n",
        "                        \n",
        "            epoch_losses = epoch_losses / datasets_size[phase]\n",
        "            epoch_accuracy = 100. * epoch_accuracy / datasets_size[phase]\n",
        "            print(f'{phase} Epoch Losses : {epoch_losses:.5f} :: Accuracy : {epoch_accuracy:.5f} :: Time : {(time.time() - epoch_begin):.4f}s')\n",
        "            \n",
        "            if phase == 'train':\n",
        "                training_loss.append(epoch_losses)\n",
        "            if phase == 'valid':\n",
        "                if best_valid_accuracy < epoch_accuracy:\n",
        "                    best_valid_accuracy = epoch_accuracy\n",
        "                    torch.save(model.state_dict(), 'final_model.pth')\n",
        "                validation_loss.append(epoch_losses)\n",
        "        \n",
        "        scheduler.step()\n",
        "    return training_loss, validation_loss\n",
        "\n",
        "def testing(model, dataset):\n",
        "    result = []\n",
        "    if torch.cuda.is_available():\n",
        "            model.cuda()\n",
        "    for data in dataset:\n",
        "        inputs, labels = data\n",
        "        if torch.cuda.is_available():\n",
        "            inputs, labels = inputs.cuda(), labels.cuda()\n",
        "        output = model(inputs)\n",
        "        _, preds = torch.max(output, 1)\n",
        "        # testing data is sequential, so label is unnecessary thing\n",
        "        result += [int(element) for element in preds.tolist()]\n",
        "    return result"
      ],
      "metadata": {
        "id": "sXs_8z0uFA0D"
      },
      "execution_count": 151,
      "outputs": []
    },
    {
      "cell_type": "code",
      "source": [
        "epochs = 20\n",
        "batch_size = 64\n",
        "learning_rate = 1e-4\n",
        "inputDim = 1\n",
        "outDim = 10"
      ],
      "metadata": {
        "id": "Ze1EdGwIulKi"
      },
      "execution_count": 142,
      "outputs": []
    },
    {
      "cell_type": "code",
      "source": [
        "model = MobileNetV3(inputDim, outDim)\n",
        "optimizer = torch.optim.Adam(model.parameters(), lr=learning_rate, weight_decay=1e-2)\n",
        "scheduler = torch.optim.lr_scheduler.CosineAnnealingWarmRestarts(optimizer, T_0=50)\n",
        "\n",
        "dummy_input = torch.zeros(batch_size, inputDim, 28, 28)\n",
        "print(pytorch_model_summary.summary(model, dummy_input))"
      ],
      "metadata": {
        "colab": {
          "base_uri": "https://localhost:8080/"
        },
        "id": "qdKmMnhVxpTR",
        "outputId": "fc05b95f-82e5-4c4e-8674-82f79f4187a7"
      },
      "execution_count": 143,
      "outputs": [
        {
          "output_type": "stream",
          "name": "stdout",
          "text": [
            "-----------------------------------------------------------------------------\n",
            "           Layer (type)         Output Shape         Param #     Tr. Param #\n",
            "=============================================================================\n",
            "               Conv2d-1     [64, 12, 26, 26]             108             108\n",
            "          BatchNorm2d-2     [64, 12, 26, 26]              24              24\n",
            "   InvertedResidualv3-3     [64, 12, 13, 13]           5,370           5,370\n",
            "   InvertedResidualv3-4     [64, 12, 13, 13]           5,370           5,370\n",
            "   InvertedResidualv3-5       [64, 24, 7, 7]           6,258           6,258\n",
            "               Conv2d-6      [64, 144, 7, 7]           3,600           3,600\n",
            "          BatchNorm2d-7      [64, 144, 7, 7]             288             288\n",
            "            LeakyReLU-8      [64, 144, 7, 7]               0               0\n",
            "               Conv2d-9       [64, 24, 1, 1]           3,480           3,480\n",
            "           LeakyReLU-10       [64, 24, 1, 1]               0               0\n",
            "              Linear-11             [64, 10]             250             250\n",
            "=============================================================================\n",
            "Total params: 24,748\n",
            "Trainable params: 24,748\n",
            "Non-trainable params: 0\n",
            "-----------------------------------------------------------------------------\n"
          ]
        }
      ]
    },
    {
      "cell_type": "code",
      "source": [
        "if torch.cuda.is_available():\n",
        "    model = model.cuda()\n",
        "\n",
        "transforms = torchvision.transforms.Compose([\n",
        "    torchvision.transforms.ToPILImage(),\n",
        "    torchvision.transforms.Resize((28, 28)),\n",
        "    torchvision.transforms.ToTensor(),\n",
        "    torchvision.transforms.Normalize([0.5], [0.5])\n",
        "])\n",
        "\n",
        "# Load data\n",
        "valid_fraction = 0.1\n",
        "\n",
        "train_file = pd.read_csv(Path(fileDir, qFileName['train']))\n",
        "# convert dataframe of pandas into numpy array\n",
        "train_file = train_file.to_numpy().astype('uint8')\n",
        "\n",
        "boundary = int(len(train_file) * (1 - valid_fraction))\n",
        "\n",
        "train_data = DigitDataset(train_file[:boundary], transforms, phase='training')\n",
        "valid_data = DigitDataset(train_file[boundary:], transforms, phase='training')\n",
        "\n",
        "train_data_loader = DataLoader(\n",
        "    train_data,\n",
        "    batch_size = 64,\n",
        "    shuffle = True,\n",
        "    num_workers = 3\n",
        ")\n",
        "\n",
        "valid_data_loader = DataLoader(\n",
        "    valid_data,\n",
        "    batch_size = 64,\n",
        "    shuffle = True,\n",
        "    num_workers = 3\n",
        ")\n",
        "\n",
        "datasets = {'train' : train_data_loader, 'valid' : valid_data_loader}\n",
        "datasets_size = {'train' : len(train_data_loader.dataset), 'valid' : len(valid_data_loader.dataset)}"
      ],
      "metadata": {
        "id": "y04N4rNTbSIl",
        "colab": {
          "base_uri": "https://localhost:8080/"
        },
        "outputId": "48489c1e-d496-4e22-af7e-d2d64cfc13a4"
      },
      "execution_count": 144,
      "outputs": [
        {
          "output_type": "stream",
          "name": "stderr",
          "text": [
            "/usr/local/lib/python3.7/dist-packages/torch/utils/data/dataloader.py:481: UserWarning: This DataLoader will create 3 worker processes in total. Our suggested max number of worker in current system is 2, which is smaller than what this DataLoader is going to create. Please be aware that excessive worker creation might get DataLoader running slow or even freeze, lower the worker number to avoid potential slowness/freeze if necessary.\n",
            "  cpuset_checked))\n"
          ]
        }
      ]
    },
    {
      "cell_type": "code",
      "source": [
        "train_loss, valid_loss = training(model, datasets, datasets_size, optimizer, scheduler, epochs=epochs)"
      ],
      "metadata": {
        "colab": {
          "base_uri": "https://localhost:8080/"
        },
        "id": "Fe2kjaPQbhCe",
        "outputId": "79ab0d35-c409-40f5-9f28-97c8d1f0250e"
      },
      "execution_count": 145,
      "outputs": [
        {
          "output_type": "stream",
          "name": "stdout",
          "text": [
            "-------------- Epoch 0 --------------\n"
          ]
        },
        {
          "output_type": "stream",
          "name": "stderr",
          "text": [
            "/usr/local/lib/python3.7/dist-packages/torch/utils/data/dataloader.py:481: UserWarning: This DataLoader will create 3 worker processes in total. Our suggested max number of worker in current system is 2, which is smaller than what this DataLoader is going to create. Please be aware that excessive worker creation might get DataLoader running slow or even freeze, lower the worker number to avoid potential slowness/freeze if necessary.\n",
            "  cpuset_checked))\n"
          ]
        },
        {
          "output_type": "stream",
          "name": "stdout",
          "text": [
            "train Epoch Losses : -0.00469 :: Accuracy : 32.27249 :: Time : 133.3693s\n",
            "valid Epoch Losses : -0.00673 :: Accuracy : 46.02381 :: Time : 4.9538s\n",
            "-------------- Epoch 1 --------------\n",
            "train Epoch Losses : -0.00825 :: Accuracy : 55.50794 :: Time : 139.5313s\n",
            "valid Epoch Losses : -0.00961 :: Accuracy : 62.90476 :: Time : 5.1903s\n",
            "-------------- Epoch 2 --------------\n",
            "train Epoch Losses : -0.00965 :: Accuracy : 63.29630 :: Time : 138.5436s\n",
            "valid Epoch Losses : -0.01000 :: Accuracy : 65.16667 :: Time : 4.9324s\n",
            "-------------- Epoch 3 --------------\n",
            "train Epoch Losses : -0.00996 :: Accuracy : 64.98942 :: Time : 138.5485s\n",
            "valid Epoch Losses : -0.01024 :: Accuracy : 66.23810 :: Time : 5.0353s\n",
            "-------------- Epoch 4 --------------\n",
            "train Epoch Losses : -0.01060 :: Accuracy : 69.83069 :: Time : 139.9407s\n",
            "valid Epoch Losses : -0.01120 :: Accuracy : 73.45238 :: Time : 5.0024s\n",
            "-------------- Epoch 5 --------------\n",
            "train Epoch Losses : -0.01131 :: Accuracy : 74.31746 :: Time : 139.1041s\n",
            "valid Epoch Losses : -0.01152 :: Accuracy : 75.11905 :: Time : 4.9399s\n",
            "-------------- Epoch 6 --------------\n",
            "train Epoch Losses : -0.01141 :: Accuracy : 74.82011 :: Time : 140.5317s\n",
            "valid Epoch Losses : -0.01153 :: Accuracy : 75.16667 :: Time : 4.9537s\n",
            "-------------- Epoch 7 --------------\n",
            "train Epoch Losses : -0.01148 :: Accuracy : 75.30159 :: Time : 139.1373s\n",
            "valid Epoch Losses : -0.01169 :: Accuracy : 76.26190 :: Time : 4.9396s\n",
            "-------------- Epoch 8 --------------\n",
            "train Epoch Losses : -0.01153 :: Accuracy : 75.81217 :: Time : 138.4939s\n",
            "valid Epoch Losses : -0.01168 :: Accuracy : 76.21429 :: Time : 4.9601s\n",
            "-------------- Epoch 9 --------------\n",
            "train Epoch Losses : -0.01156 :: Accuracy : 76.15873 :: Time : 139.4576s\n",
            "valid Epoch Losses : -0.01162 :: Accuracy : 76.14286 :: Time : 5.0065s\n",
            "-------------- Epoch 10 --------------\n",
            "train Epoch Losses : -0.01159 :: Accuracy : 76.44444 :: Time : 139.9713s\n",
            "valid Epoch Losses : -0.01176 :: Accuracy : 77.64286 :: Time : 4.9869s\n",
            "-------------- Epoch 11 --------------\n",
            "train Epoch Losses : -0.01224 :: Accuracy : 83.29630 :: Time : 140.2856s\n",
            "valid Epoch Losses : -0.01268 :: Accuracy : 84.66667 :: Time : 4.9648s\n",
            "-------------- Epoch 12 --------------\n",
            "train Epoch Losses : -0.01268 :: Accuracy : 85.24868 :: Time : 139.3519s\n",
            "valid Epoch Losses : -0.01277 :: Accuracy : 84.97619 :: Time : 5.0204s\n",
            "-------------- Epoch 13 --------------\n",
            "train Epoch Losses : -0.01275 :: Accuracy : 85.69312 :: Time : 139.8445s\n",
            "valid Epoch Losses : -0.01277 :: Accuracy : 85.28571 :: Time : 4.9047s\n",
            "-------------- Epoch 14 --------------\n",
            "train Epoch Losses : -0.01278 :: Accuracy : 85.97884 :: Time : 139.9507s\n",
            "valid Epoch Losses : -0.01275 :: Accuracy : 85.47619 :: Time : 5.0455s\n",
            "-------------- Epoch 15 --------------\n",
            "train Epoch Losses : -0.01279 :: Accuracy : 86.23280 :: Time : 141.7605s\n",
            "valid Epoch Losses : -0.01272 :: Accuracy : 85.54762 :: Time : 4.9760s\n",
            "-------------- Epoch 16 --------------\n",
            "train Epoch Losses : -0.01279 :: Accuracy : 86.32540 :: Time : 142.7439s\n",
            "valid Epoch Losses : -0.01283 :: Accuracy : 85.78571 :: Time : 5.0435s\n",
            "-------------- Epoch 17 --------------\n",
            "train Epoch Losses : -0.01279 :: Accuracy : 86.42063 :: Time : 140.9609s\n",
            "valid Epoch Losses : -0.01288 :: Accuracy : 86.02381 :: Time : 5.1047s\n",
            "-------------- Epoch 18 --------------\n",
            "train Epoch Losses : -0.01281 :: Accuracy : 86.61640 :: Time : 139.4592s\n",
            "valid Epoch Losses : -0.01278 :: Accuracy : 85.73810 :: Time : 5.0398s\n",
            "-------------- Epoch 19 --------------\n",
            "train Epoch Losses : -0.01282 :: Accuracy : 86.59259 :: Time : 139.5994s\n",
            "valid Epoch Losses : -0.01281 :: Accuracy : 86.04762 :: Time : 5.2131s\n"
          ]
        }
      ]
    },
    {
      "cell_type": "code",
      "source": [
        "# Draw loss graph for training\n",
        "epoch_x = range(1, epochs + 1)\n",
        "plt.plot(epoch_x, train_loss, 'r', epoch_x, valid_loss, 'b')\n",
        "plt.xlabel('epochs')\n",
        "plt.ylabel('loss')\n",
        "plt.show()"
      ],
      "metadata": {
        "colab": {
          "base_uri": "https://localhost:8080/",
          "height": 279
        },
        "id": "Uao_lTxdbnHW",
        "outputId": "a6b2383d-43e6-4c71-cb67-cbe5db279a8f"
      },
      "execution_count": 146,
      "outputs": [
        {
          "output_type": "display_data",
          "data": {
            "image/png": "[encoded data removed]",
            "text/plain": [
              "<Figure size 432x288 with 1 Axes>"
            ]
          },
          "metadata": {
            "needs_background": "light"
          }
        }
      ]
    },
    {
      "cell_type": "code",
      "source": [
        "# Load test dataset\n",
        "test_file = pd.read_csv(Path(fileDir, qFileName['test']))\n",
        "test_file = test_file.to_numpy().astype('uint8')\n",
        "\n",
        "test_data = DigitDataset(test_file, transforms, phase='testing')\n",
        "\n",
        "test_data_loader = DataLoader(\n",
        "    test_data,\n",
        "    batch_size = 16,\n",
        "    num_workers = 3\n",
        ")"
      ],
      "metadata": {
        "id": "EG6IpPKDV2sR",
        "colab": {
          "base_uri": "https://localhost:8080/"
        },
        "outputId": "3f29f6dc-cc78-48a5-9ae9-4f2c7ad7d63f"
      },
      "execution_count": 147,
      "outputs": [
        {
          "output_type": "stream",
          "name": "stderr",
          "text": [
            "/usr/local/lib/python3.7/dist-packages/torch/utils/data/dataloader.py:481: UserWarning: This DataLoader will create 3 worker processes in total. Our suggested max number of worker in current system is 2, which is smaller than what this DataLoader is going to create. Please be aware that excessive worker creation might get DataLoader running slow or even freeze, lower the worker number to avoid potential slowness/freeze if necessary.\n",
            "  cpuset_checked))\n"
          ]
        }
      ]
    },
    {
      "cell_type": "code",
      "source": [
        "# Load best model\n",
        "model = MobileNetV3(inputDim, outDim)\n",
        "model.load_state_dict(torch.load('final_model.pth'))\n",
        "\n",
        "if torch.cuda.is_available():\n",
        "    model = model.cuda()\n",
        "\n",
        "# Test the model\n",
        "result = testing(model, test_data_loader)"
      ],
      "metadata": {
        "colab": {
          "base_uri": "https://localhost:8080/"
        },
        "id": "IFx3Igyp6VVt",
        "outputId": "d3fb89ca-58cb-482d-dd79-9b0e6915a8e8"
      },
      "execution_count": 152,
      "outputs": [
        {
          "output_type": "stream",
          "name": "stderr",
          "text": [
            "/usr/local/lib/python3.7/dist-packages/torch/utils/data/dataloader.py:481: UserWarning: This DataLoader will create 3 worker processes in total. Our suggested max number of worker in current system is 2, which is smaller than what this DataLoader is going to create. Please be aware that excessive worker creation might get DataLoader running slow or even freeze, lower the worker number to avoid potential slowness/freeze if necessary.\n",
            "  cpuset_checked))\n"
          ]
        }
      ]
    },
    {
      "cell_type": "code",
      "source": [
        "# Export result as csv file in form of Kaggle\n",
        "submission = pd.DataFrame({\n",
        "    'ImageId' : range(1, len(result) + 1),\n",
        "    'Label' : result\n",
        "},columns=['ImageId', 'Label'])\n",
        "submission.to_csv('submission.csv', index=False)"
      ],
      "metadata": {
        "id": "7n5UWE0k6W0E"
      },
      "execution_count": 153,
      "outputs": []
    }
  ]
}